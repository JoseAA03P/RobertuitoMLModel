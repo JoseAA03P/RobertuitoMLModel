{
  "cells": [
    {
      "cell_type": "code",
      "execution_count": 18,
      "metadata": {
        "colab": {
          "base_uri": "https://localhost:8080/"
        },
        "id": "TqajOQPJHYrI",
        "outputId": "2f2653a1-793c-4af3-85de-645f479e0a4c"
      },
      "outputs": [
        {
          "output_type": "stream",
          "name": "stdout",
          "text": [
            "Hello chat gpt\n"
          ]
        }
      ],
      "source": [
        "print(\"Hello chat gpt\")"
      ]
    },
    {
      "cell_type": "code",
      "execution_count": 19,
      "metadata": {
        "colab": {
          "base_uri": "https://localhost:8080/"
        },
        "id": "yNqeDtMYiN5r",
        "outputId": "866c620e-9d74-4e96-9e24-c8898e681fbb"
      },
      "outputs": [
        {
          "output_type": "stream",
          "name": "stdout",
          "text": [
            "Requirement already satisfied: pysentimiento in /usr/local/lib/python3.10/dist-packages (0.7.2)\n",
            "Requirement already satisfied: transformers in /usr/local/lib/python3.10/dist-packages (4.35.2)\n",
            "Requirement already satisfied: datasets in /usr/local/lib/python3.10/dist-packages (2.15.0)\n",
            "Requirement already satisfied: accelerate in /usr/local/lib/python3.10/dist-packages (0.22.0)\n",
            "Requirement already satisfied: evaluate in /usr/local/lib/python3.10/dist-packages (0.4.1)\n",
            "Requirement already satisfied: emoji<2.0.0,>=1.6.1 in /usr/local/lib/python3.10/dist-packages (from pysentimiento) (1.7.0)\n",
            "Requirement already satisfied: spacy<4.0.0,>=3.5.0 in /usr/local/lib/python3.10/dist-packages (from pysentimiento) (3.6.1)\n",
            "Requirement already satisfied: torch!=2.0.1,>=2.0.0 in /usr/local/lib/python3.10/dist-packages (from pysentimiento) (2.1.0+cu118)\n",
            "Requirement already satisfied: filelock in /usr/local/lib/python3.10/dist-packages (from transformers) (3.13.1)\n",
            "Requirement already satisfied: huggingface-hub<1.0,>=0.16.4 in /usr/local/lib/python3.10/dist-packages (from transformers) (0.19.4)\n",
            "Requirement already satisfied: numpy>=1.17 in /usr/local/lib/python3.10/dist-packages (from transformers) (1.23.5)\n",
            "Requirement already satisfied: packaging>=20.0 in /usr/local/lib/python3.10/dist-packages (from transformers) (23.2)\n",
            "Requirement already satisfied: pyyaml>=5.1 in /usr/local/lib/python3.10/dist-packages (from transformers) (6.0.1)\n",
            "Requirement already satisfied: regex!=2019.12.17 in /usr/local/lib/python3.10/dist-packages (from transformers) (2023.6.3)\n",
            "Requirement already satisfied: requests in /usr/local/lib/python3.10/dist-packages (from transformers) (2.31.0)\n",
            "Requirement already satisfied: tokenizers<0.19,>=0.14 in /usr/local/lib/python3.10/dist-packages (from transformers) (0.15.0)\n",
            "Requirement already satisfied: safetensors>=0.3.1 in /usr/local/lib/python3.10/dist-packages (from transformers) (0.4.0)\n",
            "Requirement already satisfied: tqdm>=4.27 in /usr/local/lib/python3.10/dist-packages (from transformers) (4.66.1)\n",
            "Requirement already satisfied: pyarrow>=8.0.0 in /usr/local/lib/python3.10/dist-packages (from datasets) (9.0.0)\n",
            "Requirement already satisfied: pyarrow-hotfix in /usr/local/lib/python3.10/dist-packages (from datasets) (0.6)\n",
            "Requirement already satisfied: dill<0.3.8,>=0.3.0 in /usr/local/lib/python3.10/dist-packages (from datasets) (0.3.7)\n",
            "Requirement already satisfied: pandas in /usr/local/lib/python3.10/dist-packages (from datasets) (1.5.3)\n",
            "Requirement already satisfied: xxhash in /usr/local/lib/python3.10/dist-packages (from datasets) (3.4.1)\n",
            "Requirement already satisfied: multiprocess in /usr/local/lib/python3.10/dist-packages (from datasets) (0.70.15)\n",
            "Requirement already satisfied: fsspec[http]<=2023.10.0,>=2023.1.0 in /usr/local/lib/python3.10/dist-packages (from datasets) (2023.6.0)\n",
            "Requirement already satisfied: aiohttp in /usr/local/lib/python3.10/dist-packages (from datasets) (3.8.6)\n",
            "Requirement already satisfied: psutil in /usr/local/lib/python3.10/dist-packages (from accelerate) (5.9.5)\n",
            "Requirement already satisfied: responses<0.19 in /usr/local/lib/python3.10/dist-packages (from evaluate) (0.18.0)\n",
            "Requirement already satisfied: attrs>=17.3.0 in /usr/local/lib/python3.10/dist-packages (from aiohttp->datasets) (23.1.0)\n",
            "Requirement already satisfied: charset-normalizer<4.0,>=2.0 in /usr/local/lib/python3.10/dist-packages (from aiohttp->datasets) (3.3.2)\n",
            "Requirement already satisfied: multidict<7.0,>=4.5 in /usr/local/lib/python3.10/dist-packages (from aiohttp->datasets) (6.0.4)\n",
            "Requirement already satisfied: async-timeout<5.0,>=4.0.0a3 in /usr/local/lib/python3.10/dist-packages (from aiohttp->datasets) (4.0.3)\n",
            "Requirement already satisfied: yarl<2.0,>=1.0 in /usr/local/lib/python3.10/dist-packages (from aiohttp->datasets) (1.9.2)\n",
            "Requirement already satisfied: frozenlist>=1.1.1 in /usr/local/lib/python3.10/dist-packages (from aiohttp->datasets) (1.4.0)\n",
            "Requirement already satisfied: aiosignal>=1.1.2 in /usr/local/lib/python3.10/dist-packages (from aiohttp->datasets) (1.3.1)\n",
            "Requirement already satisfied: typing-extensions>=3.7.4.3 in /usr/local/lib/python3.10/dist-packages (from huggingface-hub<1.0,>=0.16.4->transformers) (4.5.0)\n",
            "Requirement already satisfied: idna<4,>=2.5 in /usr/local/lib/python3.10/dist-packages (from requests->transformers) (3.4)\n",
            "Requirement already satisfied: urllib3<3,>=1.21.1 in /usr/local/lib/python3.10/dist-packages (from requests->transformers) (2.0.7)\n",
            "Requirement already satisfied: certifi>=2017.4.17 in /usr/local/lib/python3.10/dist-packages (from requests->transformers) (2023.7.22)\n",
            "Requirement already satisfied: spacy-legacy<3.1.0,>=3.0.11 in /usr/local/lib/python3.10/dist-packages (from spacy<4.0.0,>=3.5.0->pysentimiento) (3.0.12)\n",
            "Requirement already satisfied: spacy-loggers<2.0.0,>=1.0.0 in /usr/local/lib/python3.10/dist-packages (from spacy<4.0.0,>=3.5.0->pysentimiento) (1.0.5)\n",
            "Requirement already satisfied: murmurhash<1.1.0,>=0.28.0 in /usr/local/lib/python3.10/dist-packages (from spacy<4.0.0,>=3.5.0->pysentimiento) (1.0.10)\n",
            "Requirement already satisfied: cymem<2.1.0,>=2.0.2 in /usr/local/lib/python3.10/dist-packages (from spacy<4.0.0,>=3.5.0->pysentimiento) (2.0.8)\n",
            "Requirement already satisfied: preshed<3.1.0,>=3.0.2 in /usr/local/lib/python3.10/dist-packages (from spacy<4.0.0,>=3.5.0->pysentimiento) (3.0.9)\n",
            "Requirement already satisfied: thinc<8.2.0,>=8.1.8 in /usr/local/lib/python3.10/dist-packages (from spacy<4.0.0,>=3.5.0->pysentimiento) (8.1.12)\n",
            "Requirement already satisfied: wasabi<1.2.0,>=0.9.1 in /usr/local/lib/python3.10/dist-packages (from spacy<4.0.0,>=3.5.0->pysentimiento) (1.1.2)\n",
            "Requirement already satisfied: srsly<3.0.0,>=2.4.3 in /usr/local/lib/python3.10/dist-packages (from spacy<4.0.0,>=3.5.0->pysentimiento) (2.4.8)\n",
            "Requirement already satisfied: catalogue<2.1.0,>=2.0.6 in /usr/local/lib/python3.10/dist-packages (from spacy<4.0.0,>=3.5.0->pysentimiento) (2.0.10)\n",
            "Requirement already satisfied: typer<0.10.0,>=0.3.0 in /usr/local/lib/python3.10/dist-packages (from spacy<4.0.0,>=3.5.0->pysentimiento) (0.9.0)\n",
            "Requirement already satisfied: pathy>=0.10.0 in /usr/local/lib/python3.10/dist-packages (from spacy<4.0.0,>=3.5.0->pysentimiento) (0.10.3)\n",
            "Requirement already satisfied: smart-open<7.0.0,>=5.2.1 in /usr/local/lib/python3.10/dist-packages (from spacy<4.0.0,>=3.5.0->pysentimiento) (6.4.0)\n",
            "Requirement already satisfied: pydantic!=1.8,!=1.8.1,<3.0.0,>=1.7.4 in /usr/local/lib/python3.10/dist-packages (from spacy<4.0.0,>=3.5.0->pysentimiento) (1.10.13)\n",
            "Requirement already satisfied: jinja2 in /usr/local/lib/python3.10/dist-packages (from spacy<4.0.0,>=3.5.0->pysentimiento) (3.1.2)\n",
            "Requirement already satisfied: setuptools in /usr/local/lib/python3.10/dist-packages (from spacy<4.0.0,>=3.5.0->pysentimiento) (67.7.2)\n",
            "Requirement already satisfied: langcodes<4.0.0,>=3.2.0 in /usr/local/lib/python3.10/dist-packages (from spacy<4.0.0,>=3.5.0->pysentimiento) (3.3.0)\n",
            "Requirement already satisfied: sympy in /usr/local/lib/python3.10/dist-packages (from torch!=2.0.1,>=2.0.0->pysentimiento) (1.12)\n",
            "Requirement already satisfied: networkx in /usr/local/lib/python3.10/dist-packages (from torch!=2.0.1,>=2.0.0->pysentimiento) (3.2.1)\n",
            "Requirement already satisfied: triton==2.1.0 in /usr/local/lib/python3.10/dist-packages (from torch!=2.0.1,>=2.0.0->pysentimiento) (2.1.0)\n",
            "Requirement already satisfied: python-dateutil>=2.8.1 in /usr/local/lib/python3.10/dist-packages (from pandas->datasets) (2.8.2)\n",
            "Requirement already satisfied: pytz>=2020.1 in /usr/local/lib/python3.10/dist-packages (from pandas->datasets) (2023.3.post1)\n",
            "Requirement already satisfied: six>=1.5 in /usr/local/lib/python3.10/dist-packages (from python-dateutil>=2.8.1->pandas->datasets) (1.16.0)\n",
            "Requirement already satisfied: blis<0.8.0,>=0.7.8 in /usr/local/lib/python3.10/dist-packages (from thinc<8.2.0,>=8.1.8->spacy<4.0.0,>=3.5.0->pysentimiento) (0.7.11)\n",
            "Requirement already satisfied: confection<1.0.0,>=0.0.1 in /usr/local/lib/python3.10/dist-packages (from thinc<8.2.0,>=8.1.8->spacy<4.0.0,>=3.5.0->pysentimiento) (0.1.3)\n",
            "Requirement already satisfied: click<9.0.0,>=7.1.1 in /usr/local/lib/python3.10/dist-packages (from typer<0.10.0,>=0.3.0->spacy<4.0.0,>=3.5.0->pysentimiento) (8.1.7)\n",
            "Requirement already satisfied: MarkupSafe>=2.0 in /usr/local/lib/python3.10/dist-packages (from jinja2->spacy<4.0.0,>=3.5.0->pysentimiento) (2.1.3)\n",
            "Requirement already satisfied: mpmath>=0.19 in /usr/local/lib/python3.10/dist-packages (from sympy->torch!=2.0.1,>=2.0.0->pysentimiento) (1.3.0)\n",
            "Requirement already satisfied: unidecode in /usr/local/lib/python3.10/dist-packages (1.3.7)\n",
            "Requirement already satisfied: accelerate in /usr/local/lib/python3.10/dist-packages (0.22.0)\n",
            "Requirement already satisfied: numpy>=1.17 in /usr/local/lib/python3.10/dist-packages (from accelerate) (1.23.5)\n",
            "Requirement already satisfied: packaging>=20.0 in /usr/local/lib/python3.10/dist-packages (from accelerate) (23.2)\n",
            "Requirement already satisfied: psutil in /usr/local/lib/python3.10/dist-packages (from accelerate) (5.9.5)\n",
            "Requirement already satisfied: pyyaml in /usr/local/lib/python3.10/dist-packages (from accelerate) (6.0.1)\n",
            "Requirement already satisfied: torch>=1.10.0 in /usr/local/lib/python3.10/dist-packages (from accelerate) (2.1.0+cu118)\n",
            "Requirement already satisfied: filelock in /usr/local/lib/python3.10/dist-packages (from torch>=1.10.0->accelerate) (3.13.1)\n",
            "Requirement already satisfied: typing-extensions in /usr/local/lib/python3.10/dist-packages (from torch>=1.10.0->accelerate) (4.5.0)\n",
            "Requirement already satisfied: sympy in /usr/local/lib/python3.10/dist-packages (from torch>=1.10.0->accelerate) (1.12)\n",
            "Requirement already satisfied: networkx in /usr/local/lib/python3.10/dist-packages (from torch>=1.10.0->accelerate) (3.2.1)\n",
            "Requirement already satisfied: jinja2 in /usr/local/lib/python3.10/dist-packages (from torch>=1.10.0->accelerate) (3.1.2)\n",
            "Requirement already satisfied: fsspec in /usr/local/lib/python3.10/dist-packages (from torch>=1.10.0->accelerate) (2023.6.0)\n",
            "Requirement already satisfied: triton==2.1.0 in /usr/local/lib/python3.10/dist-packages (from torch>=1.10.0->accelerate) (2.1.0)\n",
            "Requirement already satisfied: MarkupSafe>=2.0 in /usr/local/lib/python3.10/dist-packages (from jinja2->torch>=1.10.0->accelerate) (2.1.3)\n",
            "Requirement already satisfied: mpmath>=0.19 in /usr/local/lib/python3.10/dist-packages (from sympy->torch>=1.10.0->accelerate) (1.3.0)\n"
          ]
        }
      ],
      "source": [
        "!pip install pysentimiento transformers datasets accelerate evaluate\n",
        "!pip install unidecode\n",
        "!pip install accelerate"
      ]
    },
    {
      "cell_type": "code",
      "execution_count": 34,
      "metadata": {
        "id": "5-idi5AXENKT",
        "colab": {
          "base_uri": "https://localhost:8080/"
        },
        "outputId": "37be918f-56a4-4a62-a3ce-662a8ca89aac"
      },
      "outputs": [
        {
          "output_type": "stream",
          "name": "stderr",
          "text": [
            "[nltk_data] Downloading package stopwords to /root/nltk_data...\n",
            "[nltk_data]   Package stopwords is already up-to-date!\n",
            "[nltk_data] Downloading package punkt to /root/nltk_data...\n",
            "[nltk_data]   Package punkt is already up-to-date!\n"
          ]
        },
        {
          "output_type": "execute_result",
          "data": {
            "text/plain": [
              "True"
            ]
          },
          "metadata": {},
          "execution_count": 34
        }
      ],
      "source": [
        "import pandas as pd\n",
        "import string\n",
        "from unidecode import unidecode\n",
        "import re\n",
        "import nltk\n",
        "from nltk.corpus import stopwords\n",
        "import numpy as np\n",
        "nltk.download('stopwords')\n",
        "nltk.download('punkt')"
      ]
    },
    {
      "cell_type": "code",
      "execution_count": 21,
      "metadata": {
        "id": "4_vE-KRnnh6O"
      },
      "outputs": [],
      "source": [
        "df = pd.read_excel(\"Experiencia_final.xlsx\")"
      ]
    },
    {
      "cell_type": "code",
      "execution_count": 22,
      "metadata": {
        "id": "4W10kUU3EdAz"
      },
      "outputs": [],
      "source": [
        "def asignar_etiqueta(calificacion):\n",
        "    if calificacion in [1, 2]:\n",
        "        return 'NEG'\n",
        "    elif calificacion == 3:\n",
        "        return 'NEU'\n",
        "    elif calificacion in [4, 5]:\n",
        "        return 'POS'\n",
        "    else:\n",
        "        return 'Desconocido'\n",
        "\n",
        "# Aplica la función a la columna 'calificacion'\n",
        "df['Etiqueta'] = df['calificacion'].apply(asignar_etiqueta)\n",
        "\n",
        "df = df.drop(columns = ['calificacion'])"
      ]
    },
    {
      "cell_type": "code",
      "execution_count": 23,
      "metadata": {
        "colab": {
          "base_uri": "https://localhost:8080/"
        },
        "id": "63e5QzBbnQVX",
        "outputId": "dfd99716-6490-4fac-c59d-cbeeddc199c5"
      },
      "outputs": [
        {
          "output_type": "stream",
          "name": "stdout",
          "text": [
            "                         ORGANIZACION  \\\n",
            "0                           TOKYOPLAY   \n",
            "1           MUSEO REGIONAL DE CHOLULA   \n",
            "2                 GURU THE BRAND BURO   \n",
            "3                                IPAM   \n",
            "4                                IPAM   \n",
            "...                               ...   \n",
            "1631  CONEKTICA AGENCIA DE PUBLICIDAD   \n",
            "1632                           XCARET   \n",
            "1633                        PREAMBULO   \n",
            "1634                            BASE    \n",
            "1635                      BIRTH GROUP   \n",
            "\n",
            "                                             Comentario  \\\n",
            "0                                                         \n",
            "1     LO QUE OCURRIO ES QUE NUNCA SE AUTORIZO PRESUP...   \n",
            "2     FUE UNA EXCELENTE EXPERIENCIA QUE VIVI EN PRAC...   \n",
            "3     ORGANIZACION NO TUVO CONTACTO CON NOSOTRAS MAS...   \n",
            "4     ORGANIZACION PERDIO CONTACTO CON NOSOTRAS A PA...   \n",
            "...                                                 ...   \n",
            "1631  EN LO PERSONAL NO DISFRUTE MUCHO MIS PRACTICAS...   \n",
            "1632                                ESTA MUY PADRE TODO   \n",
            "1633  EXCELENTE ORGANIZACION ESTOY MUY FELIZ DE HABE...   \n",
            "1634  MIS PRACTICAS FUERON EN LINEA ES POR ELLO QUE ...   \n",
            "1635  ES UNA MUY BUENA EMPRESA TRATAN A PRACTICANTES...   \n",
            "\n",
            "                                  Comentario Sin tratar Etiqueta  \n",
            "0                                                            POS  \n",
            "1     LO QUE OCURRIO ES QUE NUNCA SE AUTORIZO EL PRE...      NEG  \n",
            "2     FUE UNA EXCELENTE EXPERIENCIA LA QUE VIVI EN P...      POS  \n",
            "3     LA ORGANIZACION NO TUVO CONTACTO CON NOSOTRAS ...      NEG  \n",
            "4     LA ORGANIZACION PERDIO CONTACTO CON NOSOTRAS A...      NEG  \n",
            "...                                                 ...      ...  \n",
            "1631  EN LO PERSONAL NO DISFRUTE MUCHO MIS PRACTICAS...      NEU  \n",
            "1632                                ESTA MUY PADRE TODO      POS  \n",
            "1633  EXCELENTE ORGANIZACION ESTOY MUY FELIZ DE HABE...      POS  \n",
            "1634  MIS PRACTICAS FUERON EN LINEA ES POR ELLO QUE ...      POS  \n",
            "1635  ES UNA MUY BUENA EMPRESA TRATAN A LOS PRACTICA...      POS  \n",
            "\n",
            "[1636 rows x 4 columns]\n"
          ]
        }
      ],
      "source": [
        "def limpiar_columna(columna):\n",
        "    # Convertir a minúsculas, eliminar acentos y luego eliminar signos de puntuación y números\n",
        "    columna_limpia = columna.apply(lambda x: unidecode(str(x).upper()))\n",
        "    translator = str.maketrans('', '', string.punctuation + string.digits)\n",
        "    columna_limpia = columna_limpia.apply(lambda x: str(x).translate(translator))\n",
        "    return columna_limpia\n",
        "\n",
        "def limpiar_base_de_datos(ruta_archivo_excel):\n",
        "    # Cargar la base de datos desde Excel\n",
        "\n",
        "    # Iterar sobre cada columna y aplicar la limpieza\n",
        "    for columna in df.columns:\n",
        "        df[columna] = limpiar_columna(df[columna])\n",
        "\n",
        "def eliminar_articulos(columna):\n",
        "    lista_palabras = []\n",
        "    for i in columna:\n",
        "        i = re.sub(r'\\b(el|la|los|las|ellos)\\b', '', i, flags=re.IGNORECASE)\n",
        "        lista_palabras.append(i)\n",
        "    return lista_palabras\n",
        "\n",
        "def eliminar_palabras_vacias(columna):\n",
        "    stop_words = set(stopwords.words('spanish'))\n",
        "    lista_palabras = []\n",
        "    for i in columna:\n",
        "        palabras = nltk.word_tokenize(i)\n",
        "        palabras_filtradas = [palabra for palabra in palabras if palabra not in stop_words]\n",
        "        i = ' '.join(palabras_filtradas)\n",
        "        lista_palabras.append(i)\n",
        "    return lista_palabras\n",
        "\n",
        "# Reemplaza 'ruta_del_archivo.xlsx' con la ruta real de tu archivo Excel\n",
        "limpiar_base_de_datos('Experiencia_final.xlsx')\n",
        "df['Comentario'] = eliminar_articulos(df['Comentario'])\n",
        "df['Comentario'] = eliminar_palabras_vacias(df['Comentario'])\n",
        "print(df)"
      ]
    },
    {
      "cell_type": "code",
      "execution_count": 24,
      "metadata": {
        "id": "mYczCHTvklp0"
      },
      "outputs": [],
      "source": [
        "from transformers import AutoModelForSequenceClassification, AutoTokenizer\n",
        "from pysentimiento import create_analyzer\n",
        "from transformers import AutoTokenizer, AutoModelForSequenceClassification\n",
        "import torch\n",
        "import re\n",
        "\n",
        "model_name = \"pysentimiento/robertuito-base-uncased\"\n",
        "\n",
        "model = AutoModelForSequenceClassification.from_pretrained(\n",
        "    model_name,\n",
        "    num_labels=3\n",
        ")\n",
        "tokenizer = AutoTokenizer.from_pretrained(model_name)\n",
        "tokenizer.model_max_length = 128\n",
        "\n",
        "analyzer = create_analyzer(task = 'sentiment', lang = 'es')"
      ]
    },
    {
      "cell_type": "code",
      "source": [
        "def predict(comment):\n",
        "  return analyzer.predict(comment)\n",
        "\n",
        "df['Analyzer'] = df['Comentario'].apply(predict)"
      ],
      "metadata": {
        "id": "IbQUcHMqQ_8S"
      },
      "execution_count": 25,
      "outputs": []
    },
    {
      "cell_type": "code",
      "source": [
        "print(df)"
      ],
      "metadata": {
        "id": "i623qi-MR7p_",
        "colab": {
          "base_uri": "https://localhost:8080/"
        },
        "outputId": "4e9528dc-47a8-413d-fb87-e6e5485f924d"
      },
      "execution_count": 26,
      "outputs": [
        {
          "output_type": "stream",
          "name": "stdout",
          "text": [
            "                         ORGANIZACION  \\\n",
            "0                           TOKYOPLAY   \n",
            "1           MUSEO REGIONAL DE CHOLULA   \n",
            "2                 GURU THE BRAND BURO   \n",
            "3                                IPAM   \n",
            "4                                IPAM   \n",
            "...                               ...   \n",
            "1631  CONEKTICA AGENCIA DE PUBLICIDAD   \n",
            "1632                           XCARET   \n",
            "1633                        PREAMBULO   \n",
            "1634                            BASE    \n",
            "1635                      BIRTH GROUP   \n",
            "\n",
            "                                             Comentario  \\\n",
            "0                                                         \n",
            "1     LO QUE OCURRIO ES QUE NUNCA SE AUTORIZO PRESUP...   \n",
            "2     FUE UNA EXCELENTE EXPERIENCIA QUE VIVI EN PRAC...   \n",
            "3     ORGANIZACION NO TUVO CONTACTO CON NOSOTRAS MAS...   \n",
            "4     ORGANIZACION PERDIO CONTACTO CON NOSOTRAS A PA...   \n",
            "...                                                 ...   \n",
            "1631  EN LO PERSONAL NO DISFRUTE MUCHO MIS PRACTICAS...   \n",
            "1632                                ESTA MUY PADRE TODO   \n",
            "1633  EXCELENTE ORGANIZACION ESTOY MUY FELIZ DE HABE...   \n",
            "1634  MIS PRACTICAS FUERON EN LINEA ES POR ELLO QUE ...   \n",
            "1635  ES UNA MUY BUENA EMPRESA TRATAN A PRACTICANTES...   \n",
            "\n",
            "                                  Comentario Sin tratar Etiqueta  \\\n",
            "0                                                            POS   \n",
            "1     LO QUE OCURRIO ES QUE NUNCA SE AUTORIZO EL PRE...      NEG   \n",
            "2     FUE UNA EXCELENTE EXPERIENCIA LA QUE VIVI EN P...      POS   \n",
            "3     LA ORGANIZACION NO TUVO CONTACTO CON NOSOTRAS ...      NEG   \n",
            "4     LA ORGANIZACION PERDIO CONTACTO CON NOSOTRAS A...      NEG   \n",
            "...                                                 ...      ...   \n",
            "1631  EN LO PERSONAL NO DISFRUTE MUCHO MIS PRACTICAS...      NEU   \n",
            "1632                                ESTA MUY PADRE TODO      POS   \n",
            "1633  EXCELENTE ORGANIZACION ESTOY MUY FELIZ DE HABE...      POS   \n",
            "1634  MIS PRACTICAS FUERON EN LINEA ES POR ELLO QUE ...      POS   \n",
            "1635  ES UNA MUY BUENA EMPRESA TRATAN A LOS PRACTICA...      POS   \n",
            "\n",
            "                                               Analyzer  \n",
            "0     AnalyzerOutput(output=POS, probas={POS: 0.498,...  \n",
            "1     AnalyzerOutput(output=NEG, probas={NEG: 0.895,...  \n",
            "2     AnalyzerOutput(output=POS, probas={POS: 0.966,...  \n",
            "3     AnalyzerOutput(output=NEG, probas={NEG: 0.944,...  \n",
            "4     AnalyzerOutput(output=NEG, probas={NEG: 0.927,...  \n",
            "...                                                 ...  \n",
            "1631  AnalyzerOutput(output=NEG, probas={NEG: 0.858,...  \n",
            "1632  AnalyzerOutput(output=POS, probas={POS: 0.964,...  \n",
            "1633  AnalyzerOutput(output=POS, probas={POS: 0.963,...  \n",
            "1634  AnalyzerOutput(output=NEG, probas={NEG: 0.845,...  \n",
            "1635  AnalyzerOutput(output=POS, probas={POS: 0.977,...  \n",
            "\n",
            "[1636 rows x 5 columns]\n"
          ]
        }
      ]
    },
    {
      "cell_type": "code",
      "source": [
        "df.to_csv('DataSetFinal.csv', index = False)"
      ],
      "metadata": {
        "id": "F2u75QziJQ3O"
      },
      "execution_count": 27,
      "outputs": []
    },
    {
      "cell_type": "code",
      "source": [
        "sentiment_mapping = {\n",
        "    'NEU': 'NEU',\n",
        "    'POS': 'POS',\n",
        "    'NEG': 'NEG'\n",
        "}\n",
        "\n",
        "# Utilizar apply para aplicar la función lambda a cada fila de la columna AnalyzerOutput\n",
        "df['Sentiment'] = df['Analyzer'].apply(lambda x: sentiment_mapping[x.output])"
      ],
      "metadata": {
        "id": "O7dqT8LNMHPX"
      },
      "execution_count": 28,
      "outputs": []
    },
    {
      "cell_type": "code",
      "source": [
        "def count_sentiments(series):\n",
        "    return series.value_counts()\n",
        "\n",
        "# Aplicar groupby y luego la función personalizada\n",
        "result = df.groupby('ORGANIZACION')['Sentiment'].apply(count_sentiments).unstack().fillna(0)\n",
        "\n",
        "# Cambiar el nombre de las columnas para mayor claridad\n",
        "result.columns = ['NEG', 'NEU', 'POS']\n",
        "\n",
        "# Mostrar el resultado\n",
        "print(result)"
      ],
      "metadata": {
        "id": "nUirFpS_Kvek",
        "colab": {
          "base_uri": "https://localhost:8080/"
        },
        "outputId": "01dec57e-92eb-446c-89ce-c857b05b4295"
      },
      "execution_count": 29,
      "outputs": [
        {
          "output_type": "stream",
          "name": "stdout",
          "text": [
            "                               NEG  NEU  POS\n",
            "ORGANIZACION                                \n",
            " MUJERES                       1.0  0.0  1.0\n",
            " REVITALIZA SA DE CV           0.0  0.0  1.0\n",
            "A MENTORS                      2.0  1.0  4.0\n",
            "AAMC INTERNACIONAL             0.0  2.0  0.0\n",
            "ABANTU TALENT                  0.0  1.0  0.0\n",
            "...                            ...  ...  ...\n",
            "YB CAPITAL                     0.0  0.0  1.0\n",
            "YOON IXIM CORAZON DE MAIZ      0.0  0.0  1.0\n",
            "ZALOA LANGUAGES                0.0  0.0  1.0\n",
            "ZALOA LENGUAGES                1.0  0.0  0.0\n",
            "ZVA INTERIORES Y ARQUITECTURA  0.0  0.0  1.0\n",
            "\n",
            "[793 rows x 3 columns]\n"
          ]
        }
      ]
    },
    {
      "cell_type": "code",
      "source": [
        "result.to_csv('Results.csv', index = False)"
      ],
      "metadata": {
        "id": "1UyGyai2M_9l"
      },
      "execution_count": 30,
      "outputs": []
    },
    {
      "cell_type": "code",
      "source": [
        "max_neg = result['NEG'].max()\n",
        "max_pos = result['POS'].max()\n",
        "\n",
        "# Filtrar las filas que coinciden con el máximo de NEG\n",
        "orgs_max_neg = result.loc[result['NEG'] == max_neg, 'NEG'].to_frame()\n",
        "\n",
        "# Filtrar las filas que coinciden con el máximo de POS\n",
        "orgs_max_pos = result.loc[result['POS'] == max_pos, 'POS'].to_frame()\n",
        "\n",
        "# Imprimir la organización con el máximo de NEG y su cantidad\n",
        "print(\"Organización(es) con el máximo de NEG:\")\n",
        "print(orgs_max_neg)\n",
        "\n",
        "# Imprimir la organización con el máximo de POS y su cantidad\n",
        "print(\"\\nOrganización(es) con el máximo de POS:\")\n",
        "print(orgs_max_pos)"
      ],
      "metadata": {
        "id": "7Pvx_hMpMQmf",
        "colab": {
          "base_uri": "https://localhost:8080/"
        },
        "outputId": "bf0b4265-7e6e-4b5b-f9a0-5809b3b8a9e4"
      },
      "execution_count": 31,
      "outputs": [
        {
          "output_type": "stream",
          "name": "stdout",
          "text": [
            "Organización(es) con el máximo de NEG:\n",
            "                NEG\n",
            "ORGANIZACION       \n",
            "ACCURATE MEDIA  9.0\n",
            "\n",
            "Organización(es) con el máximo de POS:\n",
            "               POS\n",
            "ORGANIZACION      \n",
            "BIRTH GROUP   14.0\n"
          ]
        }
      ]
    },
    {
      "cell_type": "code",
      "source": [
        "from sklearn.metrics import confusion_matrix\n",
        "import seaborn as sns\n",
        "import matplotlib.pyplot as plt\n",
        "\n",
        "# Crear la matriz de confusión\n",
        "conf_matrix = confusion_matrix(df['Etiqueta'], df['Sentiment'], labels=['POS', 'NEG', 'NEU'])\n",
        "\n",
        "# Mostrar la matriz de confusión\n",
        "print(\"Matriz de Confusión:\")\n",
        "print(conf_matrix)\n",
        "\n",
        "# Visualizar la matriz de confusión con seaborn\n",
        "sns.heatmap(conf_matrix, annot=True, fmt='d', cmap='Blues', xticklabels=['POS', 'NEG', 'NEU'], yticklabels=['POS', 'NEG', 'NEU'])\n",
        "plt.xlabel('Sentiment Predicho')\n",
        "plt.ylabel('Etiqueta Verdadera')\n",
        "plt.title('Matriz de Confusión')\n",
        "plt.show()"
      ],
      "metadata": {
        "id": "DkfyovTlLUHa",
        "colab": {
          "base_uri": "https://localhost:8080/",
          "height": 541
        },
        "outputId": "623b5664-9aca-44d4-933d-e548f3b4c31e"
      },
      "execution_count": 32,
      "outputs": [
        {
          "output_type": "stream",
          "name": "stdout",
          "text": [
            "Matriz de Confusión:\n",
            "[[916  89 261]\n",
            " [ 10 116  41]\n",
            " [ 36  73  94]]\n"
          ]
        },
        {
          "output_type": "display_data",
          "data": {
            "text/plain": [
              "<Figure size 640x480 with 2 Axes>"
            ],
            "image/png": "[encoded data removed]"
          },
          "metadata": {}
        }
      ]
    },
    {
      "cell_type": "code",
      "source": [
        "# Calcular el total de instancias\n",
        "total_instances = np.sum(conf_matrix)\n",
        "\n",
        "# Calcular la diagonal de la matriz de confusión (instancias clasificadas correctamente)\n",
        "correct_predictions = np.trace(conf_matrix)\n",
        "\n",
        "# Calcular el porcentaje de aciertos\n",
        "accuracy = correct_predictions / total_instances * 100\n",
        "\n",
        "# Calcular el porcentaje de error\n",
        "error_rate = (total_instances - correct_predictions) / total_instances * 100\n",
        "\n",
        "# Mostrar los resultados\n",
        "print(f'Porcentaje de Acierto: {accuracy:.2f}%')\n",
        "print(f'Porcentaje de Error: {error_rate:.2f}%')"
      ],
      "metadata": {
        "id": "mUi76-YdRGFP",
        "colab": {
          "base_uri": "https://localhost:8080/"
        },
        "outputId": "f3498251-f61d-4d76-ffff-31cbcd56dac0"
      },
      "execution_count": 35,
      "outputs": [
        {
          "output_type": "stream",
          "name": "stdout",
          "text": [
            "Porcentaje de Acierto: 68.83%\n",
            "Porcentaje de Error: 31.17%\n"
          ]
        }
      ]
    },
    {
      "cell_type": "code",
      "source": [],
      "metadata": {
        "id": "_gbg3OiHqull"
      },
      "execution_count": null,
      "outputs": []
    }
  ],
  "metadata": {
    "colab": {
      "provenance": [],
      "gpuType": "T4"
    },
    "kernelspec": {
      "display_name": "Python 3",
      "name": "python3"
    },
    "language_info": {
      "name": "python"
    },
    "accelerator": "GPU"
  },
  "nbformat": 4,
  "nbformat_minor": 0
}